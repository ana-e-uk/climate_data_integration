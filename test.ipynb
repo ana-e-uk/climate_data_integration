{
 "cells": [
  {
   "cell_type": "markdown",
   "metadata": {},
   "source": [
    "# Checking the functions of the pipeline"
   ]
  },
  {
   "cell_type": "markdown",
   "metadata": {},
   "source": [
    "Imports"
   ]
  },
  {
   "cell_type": "code",
   "execution_count": 19,
   "metadata": {},
   "outputs": [],
   "source": [
    "from src.unify_format import unify_data_format\n",
    "from src.variable_matching import match_variables\n",
    "from src.temporal_resolution import consolidate_time_resolution\n",
    "from src.match import aggregate_and_merge_files\n",
    "\n",
    "import os\n",
    "import xarray as xr\n",
    "\n",
    "from src.config import standard_col_names"
   ]
  },
  {
   "cell_type": "markdown",
   "metadata": {},
   "source": [
    "Downloading data"
   ]
  },
  {
   "cell_type": "code",
   "execution_count": 2,
   "metadata": {},
   "outputs": [],
   "source": [
    "file_path_MetO = \"/Users/bean/Documents/Doctorate/Fall_24/Mokbel8735_Adv_Databases/climate_data_integration/data/raw/HadISST.2.2.0.0_sea_ice_concentration.nc\"\n",
    "met = xr.open_dataset(file_path_MetO)\n",
    "\n",
    "file_path_NOAA = \"/Users/bean/Documents/Doctorate/Fall_24/Mokbel8735_Adv_Databases/climate_data_integration/data/raw/icec.mon.mean.nc\"\n",
    "noa = xr.open_dataset(file_path_NOAA)"
   ]
  },
  {
   "cell_type": "markdown",
   "metadata": {},
   "source": [
    "### Standardizing variable names\n",
    "**match_variables**"
   ]
  },
  {
   "cell_type": "markdown",
   "metadata": {},
   "source": [
    "Current file column names:"
   ]
  },
  {
   "cell_type": "code",
   "execution_count": 49,
   "metadata": {},
   "outputs": [
    {
     "name": "stderr",
     "output_type": "stream",
     "text": [
      "/var/folders/mr/2yqg72xx2l3bscg4fdjn78_c0000gn/T/ipykernel_5304/2489301570.py:1: FutureWarning: The return type of `Dataset.dims` will be changed to return a set of dimension names in future, in order to be more consistent with `DataArray.dims`. To access a mapping from dimension names to lengths, please use `Dataset.sizes`.\n",
      "  met.dims.keys()\n"
     ]
    },
    {
     "data": {
      "text/plain": [
       "KeysView(FrozenMappingWarningOnValuesAccess({'time': 2048, 'nv': 2, 'latitude': 180, 'longitude': 360}))"
      ]
     },
     "execution_count": 49,
     "metadata": {},
     "output_type": "execute_result"
    }
   ],
   "source": [
    "met.dims.keys()"
   ]
  },
  {
   "cell_type": "code",
   "execution_count": 58,
   "metadata": {},
   "outputs": [
    {
     "data": {
      "text/plain": [
       "KeysView(Data variables:\n",
       "    time_bnds  (time, nv) float32 16kB ...\n",
       "    sic        (time, latitude, longitude) float32 531MB ...)"
      ]
     },
     "execution_count": 58,
     "metadata": {},
     "output_type": "execute_result"
    }
   ],
   "source": [
    "met.data_vars.keys()"
   ]
  },
  {
   "cell_type": "code",
   "execution_count": 57,
   "metadata": {},
   "outputs": [
    {
     "name": "stderr",
     "output_type": "stream",
     "text": [
      "/var/folders/mr/2yqg72xx2l3bscg4fdjn78_c0000gn/T/ipykernel_5304/2353949293.py:1: FutureWarning: The return type of `Dataset.dims` will be changed to return a set of dimension names in future, in order to be more consistent with `DataArray.dims`. To access a mapping from dimension names to lengths, please use `Dataset.sizes`.\n",
      "  noa.dims.keys()\n"
     ]
    },
    {
     "data": {
      "text/plain": [
       "KeysView(FrozenMappingWarningOnValuesAccess({'lat': 180, 'lon': 360, 'time': 2040}))"
      ]
     },
     "execution_count": 57,
     "metadata": {},
     "output_type": "execute_result"
    }
   ],
   "source": [
    "noa.dims.keys()"
   ]
  },
  {
   "cell_type": "code",
   "execution_count": 59,
   "metadata": {},
   "outputs": [
    {
     "data": {
      "text/plain": [
       "KeysView(Data variables:\n",
       "    icec     (time, lat, lon) float32 529MB ...)"
      ]
     },
     "execution_count": 59,
     "metadata": {},
     "output_type": "execute_result"
    }
   ],
   "source": [
    "noa.data_vars.keys()"
   ]
  },
  {
   "cell_type": "code",
   "execution_count": 20,
   "metadata": {},
   "outputs": [
    {
     "name": "stderr",
     "output_type": "stream",
     "text": [
      "/Users/bean/Documents/Doctorate/Fall_24/Mokbel8735_Adv_Databases/climate_data_integration/src/variable_matching.py:27: FutureWarning: The return type of `Dataset.dims` will be changed to return a set of dimension names in future, in order to be more consistent with `DataArray.dims`. To access a mapping from dimension names to lengths, please use `Dataset.sizes`.\n",
      "  for current_name in data.dims.keys():  # Check dimension names\n",
      "/Users/bean/Documents/Doctorate/Fall_24/Mokbel8735_Adv_Databases/climate_data_integration/src/variable_matching.py:27: FutureWarning: The return type of `Dataset.dims` will be changed to return a set of dimension names in future, in order to be more consistent with `DataArray.dims`. To access a mapping from dimension names to lengths, please use `Dataset.sizes`.\n",
      "  for current_name in data.dims.keys():  # Check dimension names\n"
     ]
    }
   ],
   "source": [
    "st = match_variables(input_data=[file_path_MetO, file_path_NOAA], standard_col_names=standard_col_names)"
   ]
  },
  {
   "cell_type": "code",
   "execution_count": 21,
   "metadata": {},
   "outputs": [
    {
     "name": "stdout",
     "output_type": "stream",
     "text": [
      "KeysView(FrozenMappingWarningOnValuesAccess({'datetime': 2048, 'sea_ice_temp': 2, 'latitude': 180, 'longitude': 360}))\n",
      "KeysView(Data variables:\n",
      "    time_bnds  (datetime, sea_ice_temp) float32 16kB ...)\n",
      "KeysView(FrozenMappingWarningOnValuesAccess({'latitude': 180, 'longitude': 360, 'datetime': 2040}))\n",
      "KeysView(Data variables:\n",
      "    sea_ice_temp  (datetime, latitude, longitude) float32 529MB ...)\n"
     ]
    },
    {
     "name": "stderr",
     "output_type": "stream",
     "text": [
      "/var/folders/mr/2yqg72xx2l3bscg4fdjn78_c0000gn/T/ipykernel_7510/1962799246.py:2: FutureWarning: The return type of `Dataset.dims` will be changed to return a set of dimension names in future, in order to be more consistent with `DataArray.dims`. To access a mapping from dimension names to lengths, please use `Dataset.sizes`.\n",
      "  print(new_met.dims.keys())\n",
      "/var/folders/mr/2yqg72xx2l3bscg4fdjn78_c0000gn/T/ipykernel_7510/1962799246.py:5: FutureWarning: The return type of `Dataset.dims` will be changed to return a set of dimension names in future, in order to be more consistent with `DataArray.dims`. To access a mapping from dimension names to lengths, please use `Dataset.sizes`.\n",
      "  print(new_noa.dims.keys())\n"
     ]
    }
   ],
   "source": [
    "new_met = xr.open_dataset(st[0])\n",
    "print(new_met.dims.keys())\n",
    "print(new_met.data_vars.keys())\n",
    "new_noa = xr.open_dataset(st[1])\n",
    "print(new_noa.dims.keys())\n",
    "print(new_noa.data_vars.keys())"
   ]
  },
  {
   "cell_type": "markdown",
   "metadata": {},
   "source": [
    "### Get same file format and check the grid map information\n",
    "**unify_data_format**"
   ]
  },
  {
   "cell_type": "code",
   "execution_count": null,
   "metadata": {},
   "outputs": [],
   "source": []
  },
  {
   "cell_type": "markdown",
   "metadata": {},
   "source": [
    "### Resample datasets into monthly resolution\n",
    "**consolidate_time_resolution**"
   ]
  },
  {
   "cell_type": "markdown",
   "metadata": {},
   "source": [
    "### Aggregating and merging files\n",
    "**aggregate_and_merge_files**"
   ]
  },
  {
   "cell_type": "markdown",
   "metadata": {},
   "source": []
  }
 ],
 "metadata": {
  "kernelspec": {
   "display_name": "cds",
   "language": "python",
   "name": "python3"
  },
  "language_info": {
   "codemirror_mode": {
    "name": "ipython",
    "version": 3
   },
   "file_extension": ".py",
   "mimetype": "text/x-python",
   "name": "python",
   "nbconvert_exporter": "python",
   "pygments_lexer": "ipython3",
   "version": "3.12.5"
  }
 },
 "nbformat": 4,
 "nbformat_minor": 2
}
